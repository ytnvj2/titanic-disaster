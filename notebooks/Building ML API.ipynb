{
 "cells": [
  {
   "cell_type": "code",
   "execution_count": 1,
   "metadata": {},
   "outputs": [],
   "source": [
    "import os\n",
    "\n",
    "hello_script=os.path.join(os.path.pardir,'src','models','hello_api.py')"
   ]
  },
  {
   "cell_type": "code",
   "execution_count": 6,
   "metadata": {},
   "outputs": [
    {
     "name": "stdout",
     "output_type": "stream",
     "text": [
      "Overwriting ..\\src\\models\\hello_api.py\n"
     ]
    }
   ],
   "source": [
    "%%writefile $hello_script\n",
    "from flask import Flask,request\n",
    "#create app with Flask\n",
    "app=Flask(__name__)\n",
    "\n",
    "#use python app decorator to create api route\n",
    "# '\\api' specifies the end point and methods specify that it will be used for \n",
    "# POST requests\n",
    "@app.route('/api',methods={'POST'})\n",
    "\n",
    "def say_hello():\n",
    "    #data sent as json so we use get_json to extract input\n",
    "    data=request.get_json(force=True)\n",
    "    #extract name variable from data \n",
    "    name=data['name']\n",
    "    return \"hello {0}\".format(name)\n",
    "#main block i.e Entry point of script\n",
    "if __name__=='__main__':\n",
    "    # run function used to start Flask app at port 10001 and debug= True to get stacktrace\n",
    "    app.run(port=10001,debug=True)"
   ]
  },
  {
   "cell_type": "code",
   "execution_count": 7,
   "metadata": {},
   "outputs": [],
   "source": [
    "import json,requests as req\n",
    "url=' http://127.0.0.1:10001/api'\n",
    "data=json.dumps({'name':'Yatin'})\n",
    "r= req.post(url,data)"
   ]
  },
  {
   "cell_type": "code",
   "execution_count": 8,
   "metadata": {},
   "outputs": [
    {
     "data": {
      "text/plain": [
       "'<HTML>\\r\\n\\t\\t<HEAD>\\r\\n\\t\\t\\t<TITLE>Access Blocked</TITLE>\\r\\n\\t\\t\\t<META name=\"author\" content=\"IMG-IT Management Group\">\\r\\n\\t\\t\\t<META name=\"description\" content=\"Website Blocked\">\\r\\n\\t\\t\\t<STYLE type=\"text/css\" media=\"screen\">\\r\\n\\t\\t\\t\\t\\tbody\\r\\n\\t\\t\\t\\t\\t\\t{\\r\\n\\t\\t\\t\\t\\t\\t\\t margin:50px 0px;\\r\\n\\t\\t\\t\\t\\t\\t\\t padding:0px;\\r\\n\\t\\t\\t\\t\\t\\t\\t text-align:center;\\r\\n\\t\\t\\t\\t\\t    }\\r\\n\\t\\t\\t\\t\\t#content\\r\\n\\t\\t\\t\\t\\t\\t{\\r\\n\\t\\t\\t\\t\\t\\t\\twidth:90%;\\r\\n\\t\\t\\t\\t\\t\\t\\tbackground-color:#FFFFFF;\\r\\n\\t\\t\\t\\t\\t\\t\\tborder: 2px solid #E1E9F9;\\r\\n\\t\\t\\t\\t\\t\\t\\tpadding-top:10px;\\r\\n\\t\\t\\t\\t\\t\\t\\tpadding-bottom:10px;\\r\\n\\t\\t\\t\\t\\t\\t\\tcolor:#000000;\\r\\n\\t\\t\\t\\t\\t\\t\\tfont-family:verdana;\\r\\n\\t\\t\\t\\t\\t\\t\\tfont-size:12px;\\r\\n\\t\\t\\t\\t\\t\\t\\tText-Align:Center;\\r\\n\\t\\t\\t\\t\\t\\t\\t-moz-border-radius-topleft: 10px;\\r\\n\\t\\t\\t\\t\\t\\t\\t-webkit-border-top-left-radius: 10px;\\r\\n\\t\\t\\t\\t\\t\\t\\t-moz-border-radius-bottomright: 10px;\\r\\n\\t\\t\\t\\t\\t\\t\\t-webkit-border-bottom-right-radius: 10px;\\r\\n\\t\\t\\t\\t\\t\\t}\\r\\n\\t\\t\\t</STYLE>\\r\\n\\t\\t</HEAD>\\r\\n\\t\\t<BODY style=\"background-color:#F6F6F6;font-family:verdana;color:#000;font-size:12px;margin:50px 0px;\">\\r\\n\\t\\t\\t<CENTER>\\r\\n\\t\\t\\t\\t<DIV ID=content>\\r\\n\\t\\t\\t\\t\\t<BR><BR>\\r\\n\\t\\t\\t\\t\\t<CENTER><IMG src=\"http://10.201.51.74/WiproLogo.png\"></CENTER>\\r\\n\\t\\t\\t\\t\\t<BR><BR>\\r\\n\\t\\t\\t\\t\\t<CENTER>Access to this site is currently restricted as it falls under the restricted category and accessing the same is potentially insecure.</CENTER>\\r\\n\\t\\t\\t\\t\\t<BR>\\r\\n\\r\\n\\t\\t\\t\\t\\t<CENTER>\\r\\n\\t\\t\\t\\t\\t<Table width=\"800\" style=\"font-family:verdana;color:#000;font-size:12px;\">\\r\\n\\t\\t\\t\\t\\t\\t<TR>\\r\\n\\t\\t\\t\\t\\t\\t\\t<TD align=\"Left\">\\r\\n\\t\\t\\t\\t\\t\\t\\t\\t<BR>\\r\\n\\t\\t\\t\\t\\t\\t\\t\\t<LI>If access to the website is required for genuine business purposes, please raise a request at <B>&nbsp;<A href =\"http://mywipro.wipro.com/irj/portal/\" style=\"text-decoration:none\"><B>mywipro.wipro.com</B></A></B>.<BR> &nbsp;&nbsp;&nbsp;&nbsp;&nbsp;<B><Font size=\"1\">(MYWIPRO -> MYREQUESTS -> IT ASSET SERVICES -> EMAIL AND INTERNET SERVICES -> EXCEPTIONAL URL ACCESS.)</Font></B></LI>\\r\\n\\t\\t\\t\\t\\t\\t\\t\\t<BR><BR>\\r\\n\\t\\t\\t\\t\\t\\t\\t\\t<LI>URL categorization is dynamic in nature and it will be updated by the vendor periodically.</LI>\\r\\n\\t\\t\\t\\t\\t\\t\\t</TD>\\r\\n\\t\\t\\t\\t\\t\\t</TR>\\r\\n\\t\\t\\t\\t\\t</Table>\\r\\n\\t\\t\\t\\t\\t</CENTER>\\r\\n\\t\\t\\t\\t\\t<TABLE width=\"95%\" style=\"font-family:verdana;color:#000;font-size:12px;\">\\r\\n\\t\\t\\t\\t\\t\\t<TR>\\r\\n\\t\\t\\t\\t\\t\\t\\t<TD width=\"100%\" align=\"Right\">\\r\\n\\t\\t\\t\\t\\t\\t\\t<Div style=\"font-size:8px;\">\\r\\n\\t\\t\\t\\t\\t\\t\\t<Font face=verdana>3512140009</Font>\\r\\n\\t\\t\\t\\t\\t\\t\\t</Div>\\r\\n\\t\\t\\t\\t\\t\\t\\t</TD>\\r\\n\\t\\t\\t\\t\\t\\t</TR>\\r\\n\\t\\t\\t\\t\\t</TABLE>\\r\\n\\t\\t\\t\\t\\t<CENTER>\\r\\n\\t\\t\\t\\t\\t<HR style=\"height:1px;width:850px;border:1px solid #D4A017;\">\\r\\n\\t\\t\\t\\t\\t\\t<TABLE width=\"850\" style=\"font-family:verdana;color:#000;font-size:12px;\">\\r\\n\\t\\t\\t\\t\\t\\t\\t<TR>\\r\\n\\t\\t\\t\\t\\t\\t\\t\\t<TD width=\"180\" height=\"25\" valign=\"Center\">&nbsp;&nbsp;&nbsp;User name:</TD><TD>&nbsp;YA391860</TD>\\r\\n\\t\\t\\t\\t\\t\\t\\t</TR>\\r\\n\\t\\t\\t\\t\\t\\t\\t<TR>\\r\\n\\t\\t\\t\\t\\t\\t\\t\\t<TD width=\"180\" height=\"25\" valign=\"Center\">&nbsp;&nbsp;&nbsp;IP Address:</TD><TD>&nbsp;10.209.181.165</TD>\\r\\n\\t\\t\\t\\t\\t\\t\\t</TR>\\r\\n\\t\\t\\t\\t\\t\\t\\t<TR>\\r\\n\\t\\t\\t\\t\\t\\t\\t\\t<TD width=\"180\" height=\"25\" valign=\"Center\">&nbsp;&nbsp;&nbsp;Blocked URL:</TD><TD>&nbsp;<B><Font color = #FF0000>http://127.0.0.1:10001/api</Font></B></TD>\\r\\n\\t\\t\\t\\t\\t\\t\\t</TR>\\r\\n\\t\\t\\t\\t\\t\\t\\t<!--<TR>\\r\\n\\t\\t\\t\\t\\t\\t\\t\\t<TD width=\"180\" height=\"25\" valign=\"Center\">&nbsp;&nbsp;&nbsp;Blocked Category:</TD><TD>&nbsp;<B><Font color = #FF0000></Font></B></TD>\\r\\n\\t\\t\\t\\t\\t\\t\\t</TR>-->\\r\\n\\t\\t\\t\\t\\t\\t\\t<TR>\\r\\n\\t\\t\\t\\t\\t\\t\\t\\t<TD width=\"180\" height=\"25\" valign=\"Center\">&nbsp;&nbsp;&nbsp;Web Page Category:</TD><TD>&nbsp;none</TD>\\r\\n\\t\\t\\t\\t\\t\\t\\t</TR>\\r\\n\\t\\t\\t\\t\\t\\t\\t<TR>\\r\\n\\t\\t\\t\\t\\t\\t\\t\\t<TD width=\"180\" height=\"25\" valign=\"Center\">&nbsp;&nbsp;&nbsp;Current UTC Time:</TD><TD>&nbsp;03-16-2018 at 11:22:44</TD>\\r\\n\\t\\t\\t\\t\\t\\t\\t</TR>\\r\\n\\t\\t\\t\\t\\t\\t\\t<TR>\\r\\n\\t\\t\\t\\t\\t\\t\\t\\t<TD width=\"180\" height=\"25\" valign=\"Center\" colspan=\"2\">&nbsp;&nbsp;&nbsp;If you feel this URL is wrongly categorized, then click on&nbsp;<A href =\"https://sitereview.bluecoat.com/sitereview.jsp#/?search=localhost\" style=\"text-decoration:none\"><B>Bluecoat Site Review</B></A> for revalidation (Select Filtering Service as Bluecoat Proxy SG)</TD>\\r\\n\\t\\t\\t\\t\\t\\t\\t</TR>\\r\\n\\t\\t\\t\\t\\t\\t</TABLE>\\r\\n\\t\\t\\t\\t\\t<HR style=\"height:1px;width:850px;border:1px solid #D4A017;\">\\r\\n\\t\\t\\t\\t\\t</CENTER>\\r\\n\\t\\t\\t\\t\\t<BR>\\r\\n\\t\\t\\t\\t\\t<CENTER>\\r\\n\\t\\t\\t\\t\\t<Table width=\"850\" style=\"font-family:verdana;color:#000;font-size:12px;\">\\r\\n\\t\\t\\t\\t\\t\\t<TR>\\r\\n\\t\\t\\t\\t\\t\\t\\t<TD align=\"Left\">\\r\\n\\t\\t\\t\\t\\t\\t\\t\\tIT Management Group<BR>\\r\\n\\t\\t\\t\\t\\t\\t\\t\\tYour friendly IT Manager.<BR>\\r\\n\\t\\t\\t\\t\\t\\t\\t</TD>\\r\\n\\t\\t\\t\\t\\t\\t</TR>\\r\\n\\t\\t\\t\\t\\t</Table>\\r\\n\\t\\t\\t\\t\\t....\\r\\n\\t\\t\\t\\t\\t<!--\\r\\n\\t\\t\\t\\t\\t\\r\\n\\t\\t\\t\\t\\t-->\\r\\n\\t\\t\\t\\t\\t</CENTER>\\r\\n\\t\\t\\t\\t\\t<BR><BR><BR>\\r\\n\\t\\t\\t\\t</DIV>\\r\\n\\t\\t\\t</CENTER>\\r\\n\\t\\t</BODY>\\r\\n\\t</HTML>\\r\\n\\t'"
      ]
     },
     "execution_count": 8,
     "metadata": {},
     "output_type": "execute_result"
    }
   ],
   "source": [
    "r.text"
   ]
  },
  {
   "cell_type": "code",
   "execution_count": null,
   "metadata": {},
   "outputs": [],
   "source": []
  }
 ],
 "metadata": {
  "kernelspec": {
   "display_name": "Python 3",
   "language": "python",
   "name": "python3"
  },
  "language_info": {
   "codemirror_mode": {
    "name": "ipython",
    "version": 3
   },
   "file_extension": ".py",
   "mimetype": "text/x-python",
   "name": "python",
   "nbconvert_exporter": "python",
   "pygments_lexer": "ipython3",
   "version": "3.6.4"
  }
 },
 "nbformat": 4,
 "nbformat_minor": 2
}
