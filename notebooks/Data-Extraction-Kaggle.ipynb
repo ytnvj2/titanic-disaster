{
 "cells": [
  {
   "cell_type": "code",
   "execution_count": null,
   "metadata": {},
   "outputs": [],
   "source": [
    "import kaggle,os\n",
    "\n",
    "connect=kaggle.KaggleApi()\n",
    "connect.authenticate()\n",
    "connect.competition_download_file('titanic',file_name='train.csv',path=os.path.join(os.path.pardir,os.path.pardir,'data','raw'))"
   ]
  },
  {
   "cell_type": "code",
   "execution_count": 6,
   "metadata": {},
   "outputs": [],
   "source": [
    "get_raw_data_script_file=os.path.join(os.path.pardir,'src','data','get_raw_data.py')"
   ]
  },
  {
   "cell_type": "code",
   "execution_count": 7,
   "metadata": {},
   "outputs": [
    {
     "name": "stdout",
     "output_type": "stream",
     "text": [
      "..\\src\\data\\get_raw_data.py\n"
     ]
    }
   ],
   "source": [
    "print(get_raw_data_script_file)"
   ]
  },
  {
   "cell_type": "code",
   "execution_count": 20,
   "metadata": {},
   "outputs": [
    {
     "name": "stdout",
     "output_type": "stream",
     "text": [
      "Writing get_raw_data.py\n"
     ]
    }
   ],
   "source": [
    "%%writefile get_raw_data.py\n",
    "import kaggle,os\n",
    "import logging as log\n",
    "def extract_data(competition,file,file_path):\n",
    "    connect=kaggle.KaggleApi()\n",
    "    connect.authenticate()\n",
    "    connect.competition_download_file(competition,file_name=file,path=file_path)\n",
    "#project_dir corresponds to the main project directory\n",
    "def main(project_dir):\n",
    "    #get logger\n",
    "    logger=log.getLogger(__name__)\n",
    "    logger.info('getting raw data')\n",
    "    data_path=os.path.join(project_dir,'data','raw')\n",
    "    competition='titanic'\n",
    "    extract_data(competition,'train.csv',data_path)\n",
    "    extract_data(competition,'test.csv',data_path)\n",
    "    logger.info('data downloaded')\n",
    "    \n",
    "if __name__=='__main__':\n",
    "    project_dir=os.path.join(os.path.dirname(__file__),os.path.pardir,os.path.pardir)\n",
    "    print(project_dir)\n",
    "    #setup logger\n",
    "    log_format='%(asctime)s - %(name)s -  %(levelname)s -  %(message)s'\n",
    "    log.basicConfig(level=log.INFO,format=log_format)\n",
    "    main(project_dir)"
   ]
  },
  {
   "cell_type": "code",
   "execution_count": 21,
   "metadata": {},
   "outputs": [
    {
     "name": "stdout",
     "output_type": "stream",
     "text": [
      "..\\..\n",
      "Downloading train.csv to ..\\..\\data\\raw\n",
      "\n",
      "Downloading test.csv to ..\\..\\data\\raw\n",
      "\n"
     ]
    },
    {
     "name": "stderr",
     "output_type": "stream",
     "text": [
      "2018-12-25 14:10:49,835 - __main__ -  INFO -  getting raw data\n",
      "\n",
      "  0%|          | 0.00/59.8k [00:00<?, ?B/s]\n",
      "100%|##########| 59.8k/59.8k [00:00<00:00, 2.79MB/s]\n",
      "\n",
      "  0%|          | 0.00/28.0k [00:00<?, ?B/s]\n",
      "100%|##########| 28.0k/28.0k [00:00<00:00, 1.69MB/s]\n",
      "2018-12-25 14:10:53,326 - __main__ -  INFO -  data downloaded\n"
     ]
    }
   ],
   "source": []
  },
  {
   "cell_type": "code",
   "execution_count": null,
   "metadata": {},
   "outputs": [],
   "source": []
  }
 ],
 "metadata": {
  "kernelspec": {
   "display_name": "Python 3",
   "language": "python",
   "name": "python3"
  },
  "language_info": {
   "codemirror_mode": {
    "name": "ipython",
    "version": 3
   },
   "file_extension": ".py",
   "mimetype": "text/x-python",
   "name": "python",
   "nbconvert_exporter": "python",
   "pygments_lexer": "ipython3",
   "version": "3.6.5"
  }
 },
 "nbformat": 4,
 "nbformat_minor": 2
}
